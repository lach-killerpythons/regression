{
 "cells": [
  {
   "cell_type": "code",
   "execution_count": 9,
   "metadata": {
    "collapsed": true
   },
   "outputs": [],
   "source": [
    "from numpy import *\n",
    "\n",
    "# hyperparameteres - how fast model learns (needs to be optimised)\n",
    "learning_rate = 0.0001  # rate of convergence\n",
    "# y=mx+b\n",
    "initial_b = 0  # intercept\n",
    "initial_m = 0  # slope\n",
    "num_iterations = 1000\n",
    "\n"
   ]
  },
  {
   "cell_type": "markdown",
   "metadata": {},
   "source": [
    "\n"
   ]
  },
  {
   "cell_type": "code",
   "execution_count": 10,
   "metadata": {
    "collapsed": true
   },
   "outputs": [],
   "source": [
    "def compute_error_given_points(b,m,points): #SS ERROR\n",
    "    #SS Error = 1/n SUM[N,i=1] (Yi - (MXi + B))^2\n",
    "    totalError = 0\n",
    "    for i in range(0, len(points)):\n",
    "        x = points[i,0]\n",
    "        y = points[i,1]\n",
    "        totalError += (y - (m * x + b)) ** 2\n",
    "    return totalError/float(len(points))"
   ]
  },
  {
   "cell_type": "markdown",
   "metadata": {},
   "source": [
    "# Simple Batchwise Gradient Descent"
   ]
  },
  {
   "cell_type": "markdown",
   "metadata": {},
   "source": [
    " $$(1) MeanSquaredError = \\frac{1}{n} \\sum_{i=1}^{N} (y_i - (mx_i + b))^2$$\n",
    " The best way to find the local minimum for (1) is to find the partial derivatives with the respect to the gradient (m) and the intercept (b)\n",
    "$$(2) \\frac{\\partial}{\\partial m} = \\sum_{i=1}^{N} -x_i(y_i-(mx_i + b))$$\n",
    "$$(3) \\frac{\\partial}{\\partial b} = \\sum_{i=1}^{N} -(y_i-(mx_i + b))$$\n",
    "\n",
    "The learning rate η determines the size of the steps we take to reach a (local) minimum under the guidance of the partial derivatives (slope).\n",
    "We must calculate the gradients for the whole dataset to perform just one update of the parameter (theta).\n",
    "$$ \\theta = \\theta - \\eta \\cdot \\nabla_\\theta J( \\theta) $$\n"
   ]
  },
  {
   "cell_type": "code",
   "execution_count": 11,
   "metadata": {
    "collapsed": false
   },
   "outputs": [
    {
     "name": "stdout",
     "output_type": "stream",
     "text": [
      "Starting gradient descent at b = 0, m = 0, error = 5565.107834483211\n",
      "Running...\n",
      "After 1000 iterations b = 0.08893651993741346, m = 1.4777440851894448, error = 112.61481011613473\n",
      "something happened\n"
     ]
    }
   ],
   "source": [
    "#FIND LOCAL MINIMUM - first order derivative/ ideal y-int and slope\n",
    "# gradients from partial derivatives B and M:\n",
    "# d/dM = 2/N SUM[N,i=1] -Xi(Yi - (MXi + B))\n",
    "# d/dB = 2/N SUM[N,i=1] -(Yi-(MXi+B))\n",
    "\n",
    "def step_gradient(b_current, m_current, points, learning_rate):\n",
    "    b_gradient = 0\n",
    "    m_gradient = 0\n",
    "    N = float(len(points))\n",
    "    for i in range(0,len(points)):\n",
    "        x = points[i, 0]\n",
    "        y = points[i, 1]\n",
    "        b_gradient += -(2/N) * (y - ((m_current * x) + b_current)) #equation 2\n",
    "        m_gradient += -(2/N) * x * (y - ((m_current * x) + b_current)) #equation 3\n",
    "    new_b = b_current - (learning_rate * b_gradient) #equation 4\n",
    "    new_m = m_current - (learning_rate * m_gradient)\n",
    "    return [new_b, new_m]\n",
    "\n",
    "def gradient_descent_runner(points, initial_b, initial_m, learning_rate, num_iterations):\n",
    "    b = initial_b\n",
    "    m = initial_m\n",
    "    for i in range(num_iterations):\n",
    "        b, m = step_gradient(b, m, array(points), learning_rate)\n",
    "    return [b,m]\n",
    "\n",
    "def run():\n",
    "    points = genfromtxt('data.csv', delimiter=\",\")\n",
    "    [b,m] = gradient_descent_runner(points, initial_b, initial_m, learning_rate, num_iterations)\n",
    "    print (\"Starting gradient descent at b = {0}, m = {1}, error = {2}\".format(initial_b, initial_m, compute_error_given_points(initial_b, initial_m, points)))\n",
    "    print (\"Running...\")\n",
    "    [b, m] = gradient_descent_runner(points, initial_b, initial_m, learning_rate, num_iterations)\n",
    "    print(\"After {0} iterations b = {1}, m = {2}, error = {3}\".format(num_iterations, b, m, compute_error_given_points(b, m, points)))\n",
    "\n",
    "\n",
    "run()\n",
    "print(\"something happened\")"
   ]
  },
  {
   "cell_type": "code",
   "execution_count": null,
   "metadata": {
    "collapsed": true
   },
   "outputs": [],
   "source": []
  }
 ],
 "metadata": {
  "kernelspec": {
   "display_name": "Python 3",
   "language": "python",
   "name": "python3"
  },
  "language_info": {
   "codemirror_mode": {
    "name": "ipython",
    "version": 3
   },
   "file_extension": ".py",
   "mimetype": "text/x-python",
   "name": "python",
   "nbconvert_exporter": "python",
   "pygments_lexer": "ipython3",
   "version": "3.5.3"
  }
 },
 "nbformat": 4,
 "nbformat_minor": 2
}
